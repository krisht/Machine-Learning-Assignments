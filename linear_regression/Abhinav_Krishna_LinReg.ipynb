{
 "cells": [
  {
   "cell_type": "code",
   "execution_count": 1,
   "metadata": {
    "collapsed": false
   },
   "outputs": [],
   "source": [
    "# Krishna Thiyagarajan & Abhinav Jain\n",
    "# Prof. Keene\n",
    "# Machine Learning - Assignment 2\n",
    "# Linear Regression"
   ]
  },
  {
   "cell_type": "code",
   "execution_count": 2,
   "metadata": {
    "collapsed": true
   },
   "outputs": [],
   "source": [
    "import matplotlib\n",
    "matplotlib.use('TkAGG')\n",
    "import matplotlib.pyplot as plt\n",
    "import numpy as np\n",
    "from matplotlib.animation import FuncAnimation\n",
    "from scipy.stats import multivariate_normal, norm"
   ]
  },
  {
   "cell_type": "code",
   "execution_count": 3,
   "metadata": {
    "collapsed": false
   },
   "outputs": [],
   "source": [
    "# All values from book\n",
    "\n",
    "N = 100\n",
    "sigma = 0.2\n",
    "beta = 1/np.power(sigma, 2.0)\n",
    "alpha = 2\n",
    "w_0 = -0.3\n",
    "w_1 = 0.5"
   ]
  },
  {
   "cell_type": "code",
   "execution_count": 4,
   "metadata": {
    "collapsed": true
   },
   "outputs": [],
   "source": [
    "# Create sample test data with given mean and variance, and add noise\n",
    "# Prepare arrays to hold estimated mean and variance for each sample taken\n",
    "\n",
    "x_n = np.random.uniform (-1, 1, N)\n",
    "t_n = w_0 + w_1*x_n\n",
    "noise = np.random.normal (0, sigma, N)\n",
    "t_n = t_n + noise\n",
    "mu_n = np.zeros((N, 2))\n",
    "S_n = np.zeros((N, 2, 2))\n",
    "\n",
    "# Create a span of the whole grid to be used for plotting prior / posterior\n",
    "x, y = np.mgrid[-1: 1: 0.01, -1: 1: 0.01]\n",
    "span = np.dstack((x, y))\n",
    "\n",
    "fig_reg = plt.figure()"
   ]
  },
  {
   "cell_type": "code",
   "execution_count": 5,
   "metadata": {
    "collapsed": false
   },
   "outputs": [],
   "source": [
    "# Set initial mean and variance (from book)\n",
    "mu_0 = [0, 0]\n",
    "S_0 = (1.0/alpha) * (np.identity(2))\n",
    "\n",
    "# Create multivariate normal distribution from the priors and plot them as a contour\n",
    "# over the span\n",
    "prior_dist = multivariate_normal(mu_0, S_0)\n",
    "priorposterior_0 = fig_reg.add_subplot(4, 3, 2)\n",
    "priorposterior_0.set_xlabel('w0')\n",
    "priorposterior_0.set_ylabel('w1')\n",
    "\n",
    "priorposterior_0.contourf(x, y, prior_dist.pdf(span))\n",
    "priorposterior_0.plot(w_0, w_1, 'w+')\n",
    "\n",
    "priorposterior_0.set_aspect('equal')"
   ]
  },
  {
   "cell_type": "code",
   "execution_count": 6,
   "metadata": {
    "collapsed": false
   },
   "outputs": [],
   "source": [
    "# Create a span for x axis and sample w_0 and w_1 from the distribution\n",
    "x_dataspace = np.linspace(-1, 1, N)\n",
    "\n",
    "w_samples_0 = np.random.multivariate_normal(mu_0, S_0, 10)\n",
    "y_dataspace_0 = np.zeros((10, N))\n",
    "# For each sample taken, obtain a y value spanning across x axis, and plot the lines\n",
    "for i in range (10):\n",
    "    y_dataspace_0[i] = w_samples_0[i, 0] + x_dataspace * w_samples_0[i, 1]\n",
    "\n",
    "dataspace_0 = fig_reg.add_subplot(4, 3, 3)\n",
    "dataspace_0.set_xlabel('x')\n",
    "dataspace_0.set_ylabel('y')\n",
    "dataspace_0.set_ylim(-1, 1)\n",
    "\n",
    "for j in range (y_dataspace_0.shape[0]):\n",
    "    dataspace_0.plot(x_dataspace, y_dataspace_0[j, :])\n",
    "\n",
    "dataspace_0.set_aspect('equal')"
   ]
  },
  {
   "cell_type": "code",
   "execution_count": 7,
   "metadata": {
    "collapsed": false
   },
   "outputs": [],
   "source": [
    "# Linear regression\n",
    "# Create an initial phi, and add a column for each sample taken\n",
    "# Calculate S_n and mu_n for n samples\n",
    "phi = np.array([[1 , x_n[0]]])\n",
    "for i in range(N):\n",
    "    if i != 0:\n",
    "        phi = np.concatenate((phi, np.array([[1, x_n[i]]])), axis=0)\n",
    "    phiT = phi.T\n",
    "    S_n_inv = (alpha * np.identity(2)) + (beta * phiT.dot(phi))\n",
    "    S_n[i] = np.linalg.inv(S_n_inv)\n",
    "    mu_n[i] = beta * S_n[i].dot(phiT).dot(t_n[0:i+1].T)"
   ]
  },
  {
   "cell_type": "code",
   "execution_count": 8,
   "metadata": {
    "collapsed": false
   },
   "outputs": [],
   "source": [
    "# Plot likelihood, prior/posterior and dataspace for the mu_n and S_n calculated above\n",
    "\n",
    "plot_Ns = [1, 5, N]\n",
    "for i in plot_Ns:\n",
    "    \n",
    "    x_span = np.linspace(1, -1, 100)\n",
    "    y_span = np.linspace(-1, 1, 100)\n",
    "    surface = np.zeros((100, 100))\n",
    "    for j in range (100):\n",
    "        w_0_likelihood = y_span[j]\n",
    "        for k in range (100):\n",
    "            w_1_likelihood = x_span[k]\n",
    "            mu = w_0_likelihood + w_1_likelihood * x_n[i - 1]\n",
    "            surface[j, k] = norm(mu, 1/beta).pdf(t_n[i - 1])\n",
    "    likelihood_n = fig_reg.add_subplot(4, 3, 4 + plot_Ns.index(i) * 3)\n",
    "    likelihood_n.imshow(surface, cmap='afmhot', interpolation='nearest', extent=[-1, 1, -1, 1])\n",
    "    likelihood_n.plot(w_0, w_1, 'w+')\n",
    "    likelihood_n.set_aspect('equal')\n",
    "    \n",
    "    \n",
    "    priorposterior_n = fig_reg.add_subplot(4, 3, 5 + plot_Ns.index(i) * 3)\n",
    "    rv_n = multivariate_normal(mu_n[i - 1], S_n[i - 1])\n",
    "    priorposterior_n.plot(w_0, w_1, 'w+')\n",
    "    priorposterior_n.contourf(x, y, rv_n.pdf(span))\n",
    "    priorposterior_n.set_aspect('equal')\n",
    "    \n",
    "    \n",
    "    dataspace_n = fig_reg.add_subplot(4, 3, 6 + plot_Ns.index(i) * 3)\n",
    "    w_samples_n = np.random.multivariate_normal(mu_n[i - 1], S_n[i - 1], 10)\n",
    "    y_dataspace_n = np.zeros((10, N))\n",
    "    for j in range (10):\n",
    "        y_dataspace_n[j] = w_samples_n[j, 0] + x_dataspace * w_samples_n[j, 1]\n",
    "    for j in range (y_dataspace_n.shape[0]):\n",
    "        dataspace_n.plot(x_dataspace, y_dataspace_n[j, :])\n",
    "    for j in range (i):\n",
    "        dataspace_n.scatter(x_n[0:i], t_n[0:i])\n",
    "    dataspace_n.set_ylim(-1, 1)\n",
    "    dataspace_n.set_aspect('equal')"
   ]
  },
  {
   "cell_type": "code",
   "execution_count": 9,
   "metadata": {
    "collapsed": false
   },
   "outputs": [],
   "source": [
    "fig_reg.show()"
   ]
  },
  {
   "cell_type": "code",
   "execution_count": null,
   "metadata": {
    "collapsed": true
   },
   "outputs": [],
   "source": []
  }
 ],
 "metadata": {
  "kernelspec": {
   "display_name": "Python 3",
   "language": "python",
   "name": "python3"
  },
  "language_info": {
   "codemirror_mode": {
    "name": "ipython",
    "version": 3
   },
   "file_extension": ".py",
   "mimetype": "text/x-python",
   "name": "python",
   "nbconvert_exporter": "python",
   "pygments_lexer": "ipython3",
   "version": "3.6.0"
  }
 },
 "nbformat": 4,
 "nbformat_minor": 2
}
