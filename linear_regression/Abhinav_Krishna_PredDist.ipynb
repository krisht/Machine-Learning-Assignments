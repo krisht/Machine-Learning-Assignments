{
 "cells": [
  {
   "cell_type": "code",
   "execution_count": 1,
   "metadata": {
    "collapsed": true
   },
   "outputs": [],
   "source": [
    "# Krishna Thiyagarajan & Abhinav Jain\n",
    "# Prof. Keene\n",
    "# Machine Learning - Assignment 2\n",
    "# Predective Destribution"
   ]
  },
  {
   "cell_type": "code",
   "execution_count": 2,
   "metadata": {
    "collapsed": true
   },
   "outputs": [],
   "source": [
    "import matplotlib\n",
    "matplotlib.use('TkAGG')\n",
    "import matplotlib.pyplot as plt\n",
    "import numpy as np\n",
    "from matplotlib.animation import FuncAnimation\n",
    "from scipy.stats import multivariate_normal, norm"
   ]
  },
  {
   "cell_type": "code",
   "execution_count": 3,
   "metadata": {
    "collapsed": true
   },
   "outputs": [],
   "source": [
    "# Values from book\n",
    "\n",
    "N = [1, 2, 4, 25]\n",
    "sigma = 0.2\n",
    "beta = 1.0/np.power(sigma, 2.0)\n",
    "alpha = 2\n",
    "weights = 9"
   ]
  },
  {
   "cell_type": "code",
   "execution_count": 4,
   "metadata": {
    "collapsed": false
   },
   "outputs": [],
   "source": [
    "# Generate spans, ground truths and sampled values (25 samples)\n",
    "\n",
    "x_span = np.linspace(0, 1, 100)\n",
    "y_groundtruth = np.sin(2 * np.pi * x_span)\n",
    "\n",
    "x_n = np.random.uniform(0, 1, 25)\n",
    "t_n = np.sin(2 * np.pi * x_n)\n",
    "noise = np.random.normal(0, sigma, 25)\n",
    "t_n = t_n + noise\n",
    "mu_n = np.zeros((25, 100))\n",
    "S_n = np.zeros((25, 100))\n",
    "\n",
    "fig_preddist = plt.figure()"
   ]
  },
  {
   "cell_type": "code",
   "execution_count": 5,
   "metadata": {
    "collapsed": false
   },
   "outputs": [],
   "source": [
    "# Set parameters for Gaussian Basis Function (9 weights)\n",
    "\n",
    "u = np.linspace(0, 2.5, weights)\n",
    "s = 0.2"
   ]
  },
  {
   "cell_type": "code",
   "execution_count": 6,
   "metadata": {
    "collapsed": false
   },
   "outputs": [],
   "source": [
    "# Create phi with 9 Gaussian basis functions for x_n at sample point\n",
    "# Add a column for each new sample\n",
    "# Calulcate SN and mN thus\n",
    "phi = np.array([np.exp(-np.multiply(np.ones(weights)*x_n[0] - u, np.ones(weights)*x_n[0] - u)/(2.0*s*s))])\n",
    "for i in range (25):\n",
    "    if i != 0:\n",
    "        phi = np.concatenate((phi, np.array([np.exp(-np.multiply(np.ones(weights)*x_n[i] - u, np.ones(weights)*x_n[i] - u)/(2.0*s*s))])), axis=0)\n",
    "    phiT = phi.T\n",
    "    SN_inv = (alpha * np.identity(weights)) + (beta * phiT.dot(phi))\n",
    "    SN = np.linalg.inv(SN_inv)\n",
    "    mN = beta * SN.dot(phiT).dot(t_n[0:i + 1].T)\n",
    "    \n",
    "    # For plotting, go through 100 points on the span\n",
    "    # Generate phi(X) for each point\n",
    "    # Calculate mu_n and S_n at each point\n",
    "    for j in range (100):\n",
    "        phiX = np.array([np.exp(-np.multiply(np.ones(weights)*x_span[j] - u, np.ones(weights)*x_span[j] - u)/(2.0*s*s))])\n",
    "        mu_n[i, j] = mN.T.flatten().dot(phiX.flatten())\n",
    "        S_n[i, j] = (1/beta) + phiX.dot(SN).dot(phiX.T)"
   ]
  },
  {
   "cell_type": "code",
   "execution_count": 7,
   "metadata": {
    "collapsed": false
   },
   "outputs": [],
   "source": [
    "# Plot everything\n",
    "for i in N:\n",
    "    subplt = fig_preddist.add_subplot(2, 2, N.index(i) + 1)\n",
    "    subplt.plot(x_span, y_groundtruth, 'g')\n",
    "    subplt.plot(x_span, mu_n[i - 1], 'r')\n",
    "    subplt.fill_between(x_span, mu_n[i - 1] + S_n[i - 1], mu_n[i - 1] - S_n[i - 1], facecolor='pink')\n",
    "    subplt.scatter(x_n[0:i], t_n[0:i])"
   ]
  },
  {
   "cell_type": "code",
   "execution_count": 8,
   "metadata": {
    "collapsed": false
   },
   "outputs": [],
   "source": [
    "fig_preddist.show()"
   ]
  },
  {
   "cell_type": "code",
   "execution_count": null,
   "metadata": {
    "collapsed": true
   },
   "outputs": [],
   "source": []
  }
 ],
 "metadata": {
  "kernelspec": {
   "display_name": "Python 3",
   "language": "python",
   "name": "python3"
  },
  "language_info": {
   "codemirror_mode": {
    "name": "ipython",
    "version": 3
   },
   "file_extension": ".py",
   "mimetype": "text/x-python",
   "name": "python",
   "nbconvert_exporter": "python",
   "pygments_lexer": "ipython3",
   "version": "3.6.0"
  }
 },
 "nbformat": 4,
 "nbformat_minor": 2
}
