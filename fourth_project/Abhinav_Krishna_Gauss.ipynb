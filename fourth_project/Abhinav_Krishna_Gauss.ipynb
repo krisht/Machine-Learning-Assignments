{
 "cells": [
  {
   "cell_type": "code",
   "execution_count": 1,
   "metadata": {
    "collapsed": true
   },
   "outputs": [],
   "source": [
    "# Krishna Thiyagarajan & Abhinav Jain\n",
    "# Prof. Keene\n",
    "# Machine Learning - Assignment 4\n",
    "# Predective Destribution"
   ]
  },
  {
   "cell_type": "code",
   "execution_count": 2,
   "metadata": {
    "collapsed": false
   },
   "outputs": [],
   "source": [
    "%matplotlib inline\n",
    "import matplotlib.pyplot as plt\n",
    "plt.rcParams['figure.figsize'] = (12, 8)\n",
    "import numpy as np"
   ]
  },
  {
   "cell_type": "code",
   "execution_count": 3,
   "metadata": {
    "collapsed": true
   },
   "outputs": [],
   "source": [
    "# Values from book\n",
    "\n",
    "N = [1, 2, 4, 25]\n",
    "N_max = np.max(N)\n",
    "sigma = 0.2\n",
    "beta = 1.0/np.power(sigma, 2.0)\n",
    "alpha = 2\n",
    "weights = 9"
   ]
  },
  {
   "cell_type": "code",
   "execution_count": 4,
   "metadata": {
    "collapsed": false
   },
   "outputs": [],
   "source": [
    "# Generate spans, ground truths and sampled values (25 samples)\n",
    "\n",
    "x_span = np.linspace(0, 1, 100)\n",
    "y_groundtruth = np.sin(2 * np.pi * x_span)\n",
    "\n",
    "x_n = np.random.uniform(0, 1, N_max)\n",
    "t_n = np.sin(2 * np.pi * x_n)\n",
    "noise = np.random.normal(0, sigma, N_max)\n",
    "t_n = t_n + noise\n",
    "\n",
    "mu_x_o = np.zeros((N_max, 100))\n",
    "S_x_o = np.zeros((N_max, 100))"
   ]
  },
  {
   "cell_type": "code",
   "execution_count": 5,
   "metadata": {
    "collapsed": false
   },
   "outputs": [],
   "source": [
    "# Kernel function\n",
    "\n",
    "def kernel(x, x_prime, sigma_in):\n",
    "    return np.exp(-np.square(x-x_prime)/(2*np.square(sigma_in)))"
   ]
  },
  {
   "cell_type": "code",
   "execution_count": 6,
   "metadata": {
    "collapsed": false
   },
   "outputs": [],
   "source": [
    "# Iterate through all samples\n",
    "for i in range (N_max):\n",
    "    \n",
    "    # Create covariance matrix\n",
    "    k_n = np.reshape(kernel(x_n[:i + 1], x_n[0], sigma), (-1, i + 1))\n",
    "    for j in range(i + 1):\n",
    "        if (j != 0):\n",
    "            k_n = np.concatenate((k_n, np.reshape(kernel(x_n[:i + 1], x_n[j], sigma), (-1, i + 1))))        \n",
    "    C_n = k_n.T + np.identity(i + 1)*np.power(beta, -1)\n",
    "    \n",
    "    # Iterate through x linear space and calculate mean and Sigma\n",
    "    for j in range (100):\n",
    "        mu_x_o[i, j] = np.dot(np.reshape(kernel(x_n[:i + 1], x_span[j], sigma), (-1, i + 1)), np.dot(np.linalg.inv(C_n), t_n[:i + 1]))\n",
    "        S_x_o[i, j] = (1 + np.power(beta, -1)) - np.dot(kernel(x_n[:i + 1], x_span[j], sigma), np.dot(np.linalg.inv(C_n), kernel(x_n[:i + 1], x_span[j], sigma).T))"
   ]
  },
  {
   "cell_type": "code",
   "execution_count": 7,
   "metadata": {
    "collapsed": false
   },
   "outputs": [],
   "source": [
    "\n",
    "# Plot everything\n",
    "for i in N:\n",
    "    plt.subplot(2, 2, N.index(i) + 1)\n",
    "    plt.plot(x_span, y_groundtruth, 'g')\n",
    "    plt.plot(x_span, mu_x_o[i - 1], 'r')\n",
    "    plt.fill_between(x_span, mu_x_o[i - 1] + np.sqrt(S_x_o[i - 1]), mu_x_o[i - 1] - np.sqrt(S_x_o[i - 1]), facecolor='pink')\n",
    "    plt.scatter(x_n[0:i], t_n[0:i])"
   ]
  },
  {
   "cell_type": "code",
   "execution_count": null,
   "metadata": {
    "collapsed": true
   },
   "outputs": [],
   "source": []
  }
 ],
 "metadata": {
  "kernelspec": {
   "display_name": "Python 3",
   "language": "python",
   "name": "python3"
  },
  "language_info": {
   "codemirror_mode": {
    "name": "ipython",
    "version": 3
   },
   "file_extension": ".py",
   "mimetype": "text/x-python",
   "name": "python",
   "nbconvert_exporter": "python",
   "pygments_lexer": "ipython3",
   "version": "3.6.0"
  }
 },
 "nbformat": 4,
 "nbformat_minor": 2
}
